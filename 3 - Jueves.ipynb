{
 "metadata": {
  "name": "",
  "signature": "sha256:419e3fef61899f0d8362d54afbe9cbf98d31bc66b32dbcdc126c2ffa2078d254"
 },
 "nbformat": 3,
 "nbformat_minor": 0,
 "worksheets": [
  {
   "cells": [
    {
     "cell_type": "markdown",
     "metadata": {},
     "source": [
      "# Jueves &mdash; Fin de gira program\u00e1tica, ejemplos concretos"
     ]
    },
    {
     "cell_type": "markdown",
     "metadata": {},
     "source": [
      "Nota sobre Stack overflow. Nota sobre git."
     ]
    },
    {
     "cell_type": "markdown",
     "metadata": {},
     "source": [
      "## Fin de gira program\u00e1tica"
     ]
    },
    {
     "cell_type": "markdown",
     "metadata": {},
     "source": [
      "### Funciones, Diccionarios, if-then-else, while"
     ]
    },
    {
     "cell_type": "code",
     "collapsed": false,
     "input": [
      "idiomas = {'argentina': 'espa\u00f1ol',\n",
      "           'francia': 'franc\u00e9s',\n",
      "           'brasil': 'portugu\u00e9s brasile\u00f1o'}"
     ],
     "language": "python",
     "metadata": {},
     "outputs": [],
     "prompt_number": 1
    },
    {
     "cell_type": "markdown",
     "metadata": {},
     "source": [
      "### Clases\n",
      "\n",
      "Un ejemplo de sujeto."
     ]
    },
    {
     "cell_type": "markdown",
     "metadata": {},
     "source": [
      "### Ecepciones\n",
      "\n",
      "Por ejemplo detectando si una `str` representa un `int`."
     ]
    },
    {
     "cell_type": "markdown",
     "metadata": {},
     "source": [
      "### Tests\n",
      "\n",
      "Con nose."
     ]
    },
    {
     "cell_type": "markdown",
     "metadata": {},
     "source": [
      "## Ejemplos"
     ]
    },
    {
     "cell_type": "markdown",
     "metadata": {},
     "source": [
      "### An\u00e1lisis de textos sobre [Fathers and Children](http://menzenski.pythonanywhere.com/text/fathers_and_sons.txt) del Proyecto Gutenberg, siguiendo la [introducci\u00f3n a NLTK](http://idrh.ku.edu/sites/idrh.ku.edu/files/files/djw2014/2014_03_07_KU-IDRH-NLTKWorkshop.pdf)"
     ]
    },
    {
     "cell_type": "code",
     "collapsed": false,
     "input": [],
     "language": "python",
     "metadata": {},
     "outputs": []
    },
    {
     "cell_type": "code",
     "collapsed": false,
     "input": [],
     "language": "python",
     "metadata": {},
     "outputs": []
    },
    {
     "cell_type": "code",
     "collapsed": false,
     "input": [],
     "language": "python",
     "metadata": {},
     "outputs": []
    },
    {
     "cell_type": "markdown",
     "metadata": {},
     "source": [
      "### Estad\u00edsticas sobre los [Rdatasets](https://github.com/vincentarelbundock/Rdatasets/zipball/master)\n",
      "\n",
      "No nos da el tiempo :). Terminen los [tutoriales de introducci\u00f3n](http://introtopython.org/) (llegamos hasta [funciones](http://introtopython.org/introducing_functions.html)), y podr\u00e1n hacer sus propias estad\u00edsticas usando la biblioteca [pandas](http://pandas.pydata.org/)."
     ]
    }
   ],
   "metadata": {}
  }
 ]
}