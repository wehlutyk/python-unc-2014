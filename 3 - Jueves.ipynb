{
 "metadata": {
  "name": "",
  "signature": "sha256:6182465abd6d7d8da7f7abff1f75ac8fa8fc9ab3cff2162e04003ae24397bcc3"
 },
 "nbformat": 3,
 "nbformat_minor": 0,
 "worksheets": [
  {
   "cells": [
    {
     "cell_type": "markdown",
     "metadata": {},
     "source": [
      "# Jueves &mdash; Fin de gira program\u00e1tica, ejemplos concretos"
     ]
    },
    {
     "cell_type": "markdown",
     "metadata": {},
     "source": [
      "## Fin de gira program\u00e1tica"
     ]
    },
    {
     "cell_type": "markdown",
     "metadata": {},
     "source": [
      "### Clases\n",
      "\n",
      "Un ejemplo de sujeto."
     ]
    },
    {
     "cell_type": "markdown",
     "metadata": {},
     "source": [
      "### Ecepciones\n",
      "\n",
      "Por ejemplo detectando si una `str` representa un `int`."
     ]
    },
    {
     "cell_type": "markdown",
     "metadata": {},
     "source": [
      "### Tests\n",
      "\n",
      "Con nose."
     ]
    },
    {
     "cell_type": "markdown",
     "metadata": {},
     "source": [
      "## Ejemplos"
     ]
    },
    {
     "cell_type": "markdown",
     "metadata": {},
     "source": [
      "### Estad\u00edsticas sobre los [Rdatasets](https://github.com/vincentarelbundock/Rdatasets/zipball/master)"
     ]
    },
    {
     "cell_type": "markdown",
     "metadata": {},
     "source": [
      "### An\u00e1lisis de textos sobre [Fathers and Children](http://menzenski.pythonanywhere.com/text/fathers_and_sons.txt) del Proyecto Gutenberg"
     ]
    }
   ],
   "metadata": {}
  }
 ]
}