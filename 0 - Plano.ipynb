{
 "metadata": {
  "name": "",
  "signature": "sha256:73025ec0aa4c36905c171db349338d4d29e37d14775e1a37c83789c40c1b4950"
 },
 "nbformat": 3,
 "nbformat_minor": 0,
 "worksheets": [
  {
   "cells": [
    {
     "cell_type": "markdown",
     "metadata": {},
     "source": [
      "# Introducci\u00f3n a la programaci\u00f3n y estad\u00edsticas con Python"
     ]
    },
    {
     "cell_type": "code",
     "collapsed": false,
     "input": [
      "print(\"Hola python, c\u00f3mo te vas?\")"
     ],
     "language": "python",
     "metadata": {},
     "outputs": [
      {
       "output_type": "stream",
       "stream": "stdout",
       "text": [
        "Hola python, c\u00f3mo te vas?\n"
       ]
      }
     ],
     "prompt_number": 1
    },
    {
     "cell_type": "markdown",
     "metadata": {},
     "source": [
      "### Cu\u00e1ndo\n",
      "\n",
      "* Martes 16hs&mdash;18hs\n",
      "* Mi\u00e9rcoles 16hs&mdash;18hs\n",
      "* Jueves 12:30hs&mdash;14:30hs\n",
      "\n",
      "### Qui\u00e9n y qu\u00e9\n",
      "\n",
      "* Vienen: Laura, Itat\u00ed, Adri\u00e1n, Vanesa, Marcelo, Horacio, Ju\u00e1n (el jueves)\n",
      "* No pueden: Benja, Daiana, Antonella, Mar\u00eda\n",
      "\n",
      "#### Metas e intereses\n",
      "\n",
      "* An\u00e1lisis textual autom\u00e1tico de palabras en papers (desde pdf a estad\u00edsticas de palabras y contexto en que se usan): Itat\u00ed, Adri\u00e1n\n",
      "* An\u00e1lisis de audios, prosodia en lectura de ni\u00f1os: Vanesa\n",
      "* ...\n",
      "\n",
      "#### Recursos\n",
      "\n",
      "* Clases online para Python: [Codecademy](http://www.codecademy.com/tracks/python) y [edX](https://www.edx.org/node/5626)\n",
      "* [Comunidad Python Argentina](http://python.org.ar/)\n",
      "* [Galer\u00eda de notebooks interesantes](https://github.com/ipython/ipython/wiki/A-gallery-of-interesting-IPython-Notebooks), entre los cuales:\n",
      "\n",
      "  * [Introduction to Programming (using Python)](http://introtopython.org/)\n",
      "  * [Lectures on Scientific Computing with Python](http://nbviewer.ipython.org/github/jrjohansson/scientific-python-lectures/tree/master/)\n",
      "\n",
      "* Procesamiento de texto: [The Natural Language Toolkit](http://www.nltk.org/)\n",
      "* Gr\u00e1ficos: [Dos](http://nbviewer.ipython.org/github/jrjohansson/scientific-python-lectures/blob/master/Lecture-4-Matplotlib.ipynb) [buenos](http://www.labri.fr/perso/nrougier/teaching/matplotlib/) tutoriales sobre Matplotlib &mdash; ver tambi\u00e9n la [galer\u00eda Matplotlib](http://matplotlib.org/gallery.html)\n",
      "* Documentaci\u00f3n exhaustiva:\n",
      "\n",
      "  * [Python 2.7](https://docs.python.org/2.7/), [Python 3](https://docs.python.org/3/)\n",
      "  * [Scipy](http://www.scipy.org/) re\u00fane las librer\u00edas importantes"
     ]
    },
    {
     "cell_type": "markdown",
     "metadata": {},
     "source": [
      "# Antes de empezar\n",
      "\n",
      "1. Bajar e instalar la distribuci\u00f3n de paquetes [Anaconda](http://continuum.io/downloads#all) (la p\u00e1gina da instaladores para Windows, Mac y Linux).\n",
      "1. Bajar los notebooks que vamos a usar:\n",
      "  * la [Introducci\u00f3n a la Programaci\u00f3n usando Python](https://github.com/ehmatthes/intro_programming/archive/master.zip) de Eric Matthes\n",
      "  * y la [Introducci\u00f3n a la Computaci\u00f3n Cient\u00edfica con Python](https://github.com/jrjohansson/scientific-python-lectures/archive/master.zip) de Robert Johansson"
     ]
    },
    {
     "cell_type": "markdown",
     "metadata": {},
     "source": [
      "## Plano (aproximativo)\n",
      "\n",
      "* [Martes &mdash; Introducci\u00f3n a todo](http://nbviewer.ipython.org/github/wehlutyk/python-unc-2014/blob/master/1%20-%20Martes.ipynb)\n",
      "* Mi\u00e9rcoles &mdash; Los intereses de cada uno\n",
      "* Jueves &mdash; Ya veremos"
     ]
    }
   ],
   "metadata": {}
  }
 ]
}