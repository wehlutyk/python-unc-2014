{
 "metadata": {
  "name": "",
  "signature": "sha256:b24de031d9b47520b8dff3fadfe81a4b8bcb99c4e919ceba3e15615e25b08f8c"
 },
 "nbformat": 3,
 "nbformat_minor": 0,
 "worksheets": [
  {
   "cells": [
    {
     "cell_type": "markdown",
     "metadata": {},
     "source": [
      "# Introducci\u00f3n a la programaci\u00f3n y estad\u00edsticas con Python"
     ]
    },
    {
     "cell_type": "code",
     "collapsed": false,
     "input": [
      "print(\"Hola python, c\u00f3mo te vas?\")"
     ],
     "language": "python",
     "metadata": {},
     "outputs": [
      {
       "output_type": "stream",
       "stream": "stdout",
       "text": [
        "Hola python, c\u00f3mo te vas?\n"
       ]
      }
     ],
     "prompt_number": 1
    },
    {
     "cell_type": "markdown",
     "metadata": {},
     "source": [
      "### Cu\u00e1ndo\n",
      "\n",
      "* Martes 16hs&mdash;18hs\n",
      "* Mi\u00e9rcoles 16hs&mdash;18hs\n",
      "* Jueves 12:30hs&mdash;14:30hs\n",
      "\n",
      "### Qui\u00e9n y qu\u00e9\n",
      "\n",
      "* Vienen: Laura, Itat\u00ed, Adri\u00e1n, Vanesa, Marcelo, Horacio, Ju\u00e1n (el jueves)\n",
      "* No pueden: Benja, Daiana, Antonella, Mar\u00eda\n",
      "\n",
      "#### Metas e intereses\n",
      "\n",
      "* An\u00e1lisis textual autom\u00e1tico de palabras en papers (desde pdf a estad\u00edsticas de palabras y contexto en que se usan): Itat\u00ed, Adri\u00e1n\n",
      "* An\u00e1lisis de audios, prosodia en lectura de ni\u00f1os: Vanesa\n",
      "* ...\n",
      "\n",
      "#### Recursos\n",
      "\n",
      "* Clases online para Python: [Codecademy](http://www.codecademy.com/tracks/python) y [edX](https://www.edx.org/node/5626)\n",
      "* [Comunidad Python Argentina](http://python.org.ar/)\n",
      "* [Galer\u00eda de notebooks interesantes](https://github.com/ipython/ipython/wiki/A-gallery-of-interesting-IPython-Notebooks), entre los cuales:\n",
      "  * [Introduction to Programming (using Python)](http://introtopython.org/)\n",
      "  * [Lectures on Scientific Computing with Python](http://nbviewer.ipython.org/github/jrjohansson/scientific-python-lectures/tree/master/)\n",
      "* Procesamiento de texto:\n",
      "  * [The Natural Language Toolkit](http://www.nltk.org/)\n",
      "  * [Introduction to Text Analysis](http://idrh.ku.edu/sites/idrh.ku.edu/files/files/djw2014/2014_03_07_KU-IDRH-NLTKWorkshop.pdf) por Matthew Menzenski\n",
      "  * [NLTK Cheatsheet](https://blogs.princeton.edu/etc/files/2014/03/Text-Analysis-with-NLTK-Cheatsheet.pdf)\n",
      "* Gr\u00e1ficos: [Dos](http://nbviewer.ipython.org/github/jrjohansson/scientific-python-lectures/blob/master/Lecture-4-Matplotlib.ipynb) [buenos](http://www.labri.fr/perso/nrougier/teaching/matplotlib/) tutoriales sobre Matplotlib &mdash; ver tambi\u00e9n la [galer\u00eda Matplotlib](http://matplotlib.org/gallery.html)\n",
      "* Documentaci\u00f3n exhaustiva:\n",
      "  * [Python 2.7](https://docs.python.org/2.7/), [Python 3](https://docs.python.org/3/)\n",
      "  * [Scipy](http://www.scipy.org/) re\u00fane las librer\u00edas importantes"
     ]
    },
    {
     "cell_type": "markdown",
     "metadata": {},
     "source": [
      "# Antes de empezar\n",
      "\n",
      "1. Bajar e instalar la distribuci\u00f3n de paquetes [Anaconda](http://continuum.io/downloads#all) (la p\u00e1gina da instaladores para Windows, Mac y Linux).\n",
      "1. Bajar los notebooks y los datos que vamos a usar:\n",
      "  * la [Introducci\u00f3n a la Programaci\u00f3n usando Python](https://github.com/ehmatthes/intro_programming/archive/master.zip) de Eric Matthes\n",
      "  * la [Introducci\u00f3n a la Computaci\u00f3n Cient\u00edfica con Python](https://github.com/jrjohansson/scientific-python-lectures/archive/master.zip) de Robert Johansson\n",
      "  * los [Rdatasets](https://github.com/vincentarelbundock/Rdatasets/zipball/master)\n",
      "  * el texto [Fathers and Children](http://menzenski.pythonanywhere.com/text/fathers_and_sons.txt) del Proyecto Gutenberg"
     ]
    },
    {
     "cell_type": "markdown",
     "metadata": {},
     "source": [
      "## Plano (aproximativo)\n",
      "\n",
      "* [Martes &mdash; Introducci\u00f3n a todo](http://nbviewer.ipython.org/github/wehlutyk/python-unc-2014/blob/master/1%20-%20Martes.ipynb)\n",
      "* Mi\u00e9rcoles &mdash; M\u00e1s programaci\u00f3n, volar con sus propias alas\n",
      "* Jueves &mdash; Fin de gira program\u00e1tica, ejemplos concretos"
     ]
    }
   ],
   "metadata": {}
  }
 ]
}