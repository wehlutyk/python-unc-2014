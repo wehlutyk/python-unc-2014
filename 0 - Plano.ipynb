{
 "metadata": {
  "name": "",
  "signature": "sha256:92b716cf46c86be29d4d9dbbd72323389fccb8ad3a887d5c9e46f1a3b20861f6"
 },
 "nbformat": 3,
 "nbformat_minor": 0,
 "worksheets": [
  {
   "cells": [
    {
     "cell_type": "markdown",
     "metadata": {},
     "source": [
      "# Introducci\u00f3n a la programaci\u00f3n y estad\u00edsticas con Python\n",
      "\n",
      "### Cu\u00e1ndo\n",
      "\n",
      "* Martes 14hs&mdash;18hs\n",
      "* Mi\u00e9rcoles 14hs&mdash;18hs\n",
      "* Jueves 12:30hs&mdash;14:30hs\n",
      "\n",
      "### Qui\u00e9n y qu\u00e9\n",
      "\n",
      "* Laura\n",
      "* Itat\u00ed\n",
      "* Adri\u00e1n\n",
      "* Vane\n",
      "* Marcelo\n",
      "* Ju\u00e1n el jueves\n",
      "\n",
      "\n",
      "* Benja no puede\n",
      "* Daiana no puede\n",
      "* Antonella no puede\n",
      "\n",
      "#### Metas e intereses\n",
      "\n",
      "* An\u00e1lisis textual autom\u00e1tico de palabras en papers (desde pdf a estad\u00edsticas de palabras y contexto en que se usan): Itat\u00ed, Adri\u00e1n\n",
      "* ...\n",
      "\n",
      "#### Recursos\n",
      "\n",
      "* Clases online para Python: [Codecademy](http://www.codecademy.com/tracks/python) y [edX](https://www.edx.org/node/5626)\n",
      "* [Comunidad Python Argentina](http://python.org.ar/)\n",
      "* [Galer\u00eda de notebooks interesantes](https://github.com/ipython/ipython/wiki/A-gallery-of-interesting-IPython-Notebooks), entre los cuales:\n",
      "\n",
      "  * [Introduction to Programming (using Python)](http://introtopython.org/)\n",
      "  * [Lectures on Scientific Computing with Python](http://nbviewer.ipython.org/github/jrjohansson/scientific-python-lectures/tree/master/)\n",
      "\n",
      "* Procesamiento de texto: [The Natural Language Toolkit](http://www.nltk.org/)\n",
      "* Gr\u00e1ficos: [Dos](http://nbviewer.ipython.org/github/jrjohansson/scientific-python-lectures/blob/master/Lecture-4-Matplotlib.ipynb) [buenos](http://www.labri.fr/perso/nrougier/teaching/matplotlib/) tutoriales sobre Matplotlib &mdash; ver tambi\u00e9n la [galer\u00eda Matplotlib](http://matplotlib.org/gallery.html)\n",
      "* Documentaci\u00f3n exhaustiva:\n",
      "\n",
      "  * [Python 2.7](https://docs.python.org/2.7/), [Python 3](https://docs.python.org/3/)\n",
      "  * [Scipy](http://www.scipy.org/) re\u00fane las librer\u00edas importantes"
     ]
    },
    {
     "cell_type": "markdown",
     "metadata": {},
     "source": [
      "# Antes de empezar\n",
      "\n",
      "1. Bajar e instalar la distribuci\u00f3n de paquetes [Anaconda](http://continuum.io/downloads#all) (la p\u00e1gina da instaladores para Windows, Mac y Linux).\n",
      "1. Bajar los notebooks que vamos a usar:\n",
      "  * la [Introducci\u00f3n a la Programaci\u00f3n usando Python](https://github.com/ehmatthes/intro_programming/archive/master.zip) de Eric Matthes\n",
      "  * y la [Introducci\u00f3n a la Computaci\u00f3n Cient\u00edfica con Python](https://github.com/jrjohansson/scientific-python-lectures/archive/master.zip) de Robert Johansson"
     ]
    }
   ],
   "metadata": {}
  }
 ]
}