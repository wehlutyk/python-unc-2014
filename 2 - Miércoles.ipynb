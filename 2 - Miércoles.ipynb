{
 "metadata": {
  "name": "",
  "signature": "sha256:659be1ebe5a0393f12fe0ed9b5504bb25ddd7c34a6e20476903280dc2d91fa2b"
 },
 "nbformat": 3,
 "nbformat_minor": 0,
 "worksheets": [
  {
   "cells": [
    {
     "cell_type": "markdown",
     "metadata": {},
     "source": [
      "# Mi\u00e9rcoles &mdash; M\u00e1s programaci\u00f3n, volar con sus propias alas"
     ]
    },
    {
     "cell_type": "markdown",
     "metadata": {},
     "source": [
      "## M\u00e1s programaci\u00f3n"
     ]
    },
    {
     "cell_type": "markdown",
     "metadata": {},
     "source": [
      "Pasamos un largo tiempo descubri\u00e9ndo listas y c\u00f3mo usarlas con bucles `for` en python. Todo esto est\u00e1 en el [tutorial sobre listas](http://introtopython.org/lists_tuples.html) de Eric Matthes.\n",
      "\n",
      "No tuvimos tiempo para diccionarios, funciones, if-then-else, y while."
     ]
    },
    {
     "cell_type": "markdown",
     "metadata": {},
     "source": [
      "## Buscar su propia informaci\u00f3n"
     ]
    },
    {
     "cell_type": "markdown",
     "metadata": {},
     "source": [
      "Haciendo programaci\u00f3n, uno pasa su tiempo buscando la informaci\u00f3n que no tiene. No se puede saber todo, y una vez que sab\u00e9s, olvid\u00e1s. Entonces es muy importante saber d\u00f3nde buscar! Abajo est\u00e1n las p\u00e1ginas m\u00e1s importantes que exploramos."
     ]
    },
    {
     "cell_type": "markdown",
     "metadata": {},
     "source": [
      "### Documentaci\u00f3n\n",
      "\n",
      "* [Python 2.7](https://docs.python.org/2.7/), [Python 3](https://docs.python.org/3/)\n",
      "* [Scipy](http://www.scipy.org/)\n",
      "* [Matplotlib](http://matplotlib.org/) y su [galer\u00eda](http://matplotlib.org/gallery.html)"
     ]
    },
    {
     "cell_type": "markdown",
     "metadata": {},
     "source": [
      "### GitHub\n",
      "\n",
      "[GitHub.com](https://github.com/). El Facebook de los programadores, donde mucha gente sube su propio c\u00f3digo y lo comparte con otra gente. H\u00e1ganse una cuenta! Mi usuario es [wehlutyk](https://github.com/wehlutyk)."
     ]
    },
    {
     "cell_type": "markdown",
     "metadata": {},
     "source": [
      "### StackOverflow\n",
      "\n",
      "[StackOverflow.com](https://stackoverflow.com/). La p\u00e1gina principal de preguntas/respuestas en programaci\u00f3n (con cualquier lenguaje). Un sistema de puntaje incentiviza la gente a hacer muy buenas preguntas (generalizables y \u00fatiles para otra gente), y a dar muy buenas respuestas. Si no logran solucionar un error, seguramente existe una pregunta ya hecha en esta p\u00e1gina que responde. Sino, pregunten uds!"
     ]
    },
    {
     "cell_type": "markdown",
     "metadata": {},
     "source": [
      "### Usar bien Anaconda\n",
      "\n",
      "En Windows, pueden abrir el \"Launcher\" (desde el men\u00fa Windows) para actualizar su instalaci\u00f3n de Anaconda.\n",
      "\n",
      "Pueden tambi\u00e9n crear un nuevo entorno (\"environment\"), que es como un conjunto de paquetes bajo una versi\u00f3n determinada de Python. Creamos un nuevo entorno bajo Python 3.4 (con el nombre que uds quieran), y en casa cada uno puede ir instalando los paquetes que quiere dentro de este nuevo entorno (por ejemplo, el IPython Notebook)."
     ]
    },
    {
     "cell_type": "markdown",
     "metadata": {},
     "source": [
      "## Un ejemplo de gr\u00e1fico visto de nuevo\n",
      "\n",
      "Ya que vimos c\u00f3mo funcionan las listas en python, podemos re-visitar nuestro ejemplo del Martes, y entender bien c\u00f3mo hacer un gr\u00e1fico a partir de listas.\n",
      "\n",
      "Vamos a crear dos listas, una $x$ y una $y$, para trazar el gr\u00e1fico de $y$ en funci\u00f3n de $x$."
     ]
    },
    {
     "cell_type": "code",
     "collapsed": false,
     "input": [
      "x = range(11)  # usando la funci\u00f3n \"range\" que vimos en el tutorial sobre listas\n",
      "print(x)"
     ],
     "language": "python",
     "metadata": {},
     "outputs": [
      {
       "output_type": "stream",
       "stream": "stdout",
       "text": [
        "[0, 1, 2, 3, 4, 5, 6, 7, 8, 9, 10]\n"
       ]
      }
     ],
     "prompt_number": 1
    },
    {
     "cell_type": "code",
     "collapsed": false,
     "input": [
      "y = [3, 4, 2, 7, 9, 1, 3, 10, 5, 9, 8]\n",
      "print(y)"
     ],
     "language": "python",
     "metadata": {},
     "outputs": [
      {
       "output_type": "stream",
       "stream": "stdout",
       "text": [
        "[3, 4, 2, 7, 9, 1, 3, 10, 5, 9, 8]\n"
       ]
      }
     ],
     "prompt_number": 2
    },
    {
     "cell_type": "code",
     "collapsed": false,
     "input": [
      "# Necesitamos la biblioteca matplotlib.pyplot para trazar los gr\u00e1ficos.\n",
      "# Ac\u00e1 la vamos a nombrar \"plt\" (el nombre ser\u00e1 v\u00e1lido para el contexto de ac\u00e1, no m\u00e1s).\n",
      "import matplotlib.pyplot as plt\n",
      "\n",
      "# Esta l\u00ednea usa lo que se llama una \"funci\u00f3n m\u00e1gica\" del notebook (es decir no es una\n",
      "# funci\u00f3n de python mismo, sino del notebook ipython). Indica al notebook que queremos\n",
      "# que los gr\u00e1ficos que matplotlib produce aparezcan directamente dentro de nuestra p\u00e1gina\n",
      "# y no en otra ventana.\n",
      "%matplotlib inline"
     ],
     "language": "python",
     "metadata": {},
     "outputs": [],
     "prompt_number": 3
    },
    {
     "cell_type": "markdown",
     "metadata": {},
     "source": [
      "La funci\u00f3n `plot` traza gr\u00e1ficos"
     ]
    },
    {
     "cell_type": "code",
     "collapsed": false,
     "input": [
      "plt.plot(x, y)"
     ],
     "language": "python",
     "metadata": {},
     "outputs": [
      {
       "metadata": {},
       "output_type": "pyout",
       "prompt_number": 4,
       "text": [
        "[<matplotlib.lines.Line2D at 0x7fd78a522890>]"
       ]
      },
      {
       "metadata": {},
       "output_type": "display_data",
       "png": "[encoded data removed]",
       "text": [
        "<matplotlib.figure.Figure at 0x7fd78aaa1f10>"
       ]
      }
     ],
     "prompt_number": 4
    },
    {
     "cell_type": "markdown",
     "metadata": {},
     "source": [
      "Tambi\u00e9n se puede formatear el gr\u00e1fico de otra forma. Usando `\"o\"` para poner puntos en vez de la l\u00ednea."
     ]
    },
    {
     "cell_type": "code",
     "collapsed": false,
     "input": [
      "plt.plot(x, y, \"o\")"
     ],
     "language": "python",
     "metadata": {},
     "outputs": [
      {
       "metadata": {},
       "output_type": "pyout",
       "prompt_number": 5,
       "text": [
        "[<matplotlib.lines.Line2D at 0x7fd787c90090>]"
       ]
      },
      {
       "metadata": {},
       "output_type": "display_data",
       "png": "[encoded data removed]",
       "text": [
        "<matplotlib.figure.Figure at 0x7fd78a566190>"
       ]
      }
     ],
     "prompt_number": 5
    },
    {
     "cell_type": "markdown",
     "metadata": {},
     "source": [
      "O `\"o-\"` para poner puntos y l\u00edneas."
     ]
    },
    {
     "cell_type": "code",
     "collapsed": false,
     "input": [
      "plt.plot(x, y, \"o-\")"
     ],
     "language": "python",
     "metadata": {},
     "outputs": [
      {
       "metadata": {},
       "output_type": "pyout",
       "prompt_number": 6,
       "text": [
        "[<matplotlib.lines.Line2D at 0x7fd787bc3790>]"
       ]
      },
      {
       "metadata": {},
       "output_type": "display_data",
       "png": "[encoded data removed]",
       "text": [
        "<matplotlib.figure.Figure at 0x7fd787c37ed0>"
       ]
      }
     ],
     "prompt_number": 6
    },
    {
     "cell_type": "markdown",
     "metadata": {},
     "source": [
      "Hay tambi\u00e9n muchas otras funciones dentro de matplotlib para hacer gr\u00e1ficos. (Miren la [galer\u00eda](http://matplotlib.org/gallery.html)!). Por ejemplo un histograma:"
     ]
    },
    {
     "cell_type": "code",
     "collapsed": false,
     "input": [
      "plt.hist(y)"
     ],
     "language": "python",
     "metadata": {},
     "outputs": [
      {
       "metadata": {},
       "output_type": "pyout",
       "prompt_number": 7,
       "text": [
        "(array([ 1.,  1.,  2.,  1.,  1.,  0.,  1.,  1.,  2.,  1.]),\n",
        " array([  1. ,   1.9,   2.8,   3.7,   4.6,   5.5,   6.4,   7.3,   8.2,\n",
        "          9.1,  10. ]),\n",
        " <a list of 10 Patch objects>)"
       ]
      },
      {
       "metadata": {},
       "output_type": "display_data",
       "png": "[encoded data removed]",
       "text": [
        "<matplotlib.figure.Figure at 0x7fd787b73810>"
       ]
      }
     ],
     "prompt_number": 7
    }
   ],
   "metadata": {}
  }
 ]
}