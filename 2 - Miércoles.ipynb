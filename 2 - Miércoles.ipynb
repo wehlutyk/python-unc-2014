{
 "metadata": {
  "name": "",
  "signature": "sha256:fdb788ca2a92eecf5f9b6859d7c76b52d5dcee951bb48c79c77f2f71cf2f6dd4"
 },
 "nbformat": 3,
 "nbformat_minor": 0,
 "worksheets": [
  {
   "cells": [
    {
     "cell_type": "markdown",
     "metadata": {},
     "source": [
      "# Mi\u00e9rcoles &mdash; M\u00e1s programaci\u00f3n, volar con sus propias alas"
     ]
    },
    {
     "cell_type": "markdown",
     "metadata": {},
     "source": [
      "## M\u00e1s programaci\u00f3n"
     ]
    },
    {
     "cell_type": "markdown",
     "metadata": {},
     "source": [
      "### Listas y diccionarios"
     ]
    },
    {
     "cell_type": "markdown",
     "metadata": {},
     "source": [
      "### Funciones"
     ]
    },
    {
     "cell_type": "markdown",
     "metadata": {},
     "source": [
      "### if/then/else"
     ]
    },
    {
     "cell_type": "markdown",
     "metadata": {},
     "source": [
      "### for/while"
     ]
    },
    {
     "cell_type": "markdown",
     "metadata": {},
     "source": [
      "## Buscar su propia informaci\u00f3n"
     ]
    },
    {
     "cell_type": "markdown",
     "metadata": {},
     "source": [
      "### Documentaci\u00f3n\n",
      "\n",
      "* [Python 2.7](https://docs.python.org/2.7/), [Python 3](https://docs.python.org/3/)\n",
      "* [Scipy](http://www.scipy.org/)\n",
      "* [Matplotlib](http://matplotlib.org/) y su [galer\u00eda](http://matplotlib.org/gallery.html)"
     ]
    },
    {
     "cell_type": "markdown",
     "metadata": {},
     "source": [
      "### Anaconda\n",
      "\n",
      "Actualizarlo, instalar python 3.4."
     ]
    },
    {
     "cell_type": "markdown",
     "metadata": {},
     "source": [
      "### GitHub\n",
      "\n",
      "El Facebook de los programadores."
     ]
    }
   ],
   "metadata": {}
  }
 ]
}