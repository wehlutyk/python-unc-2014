{
 "metadata": {
  "name": "",
  "signature": "sha256:3df2fa44fd7108bebb446420b989c4a7827c2400b399a3fdaabf35435922fcec"
 },
 "nbformat": 3,
 "nbformat_minor": 0,
 "worksheets": [
  {
   "cells": [
    {
     "cell_type": "markdown",
     "metadata": {},
     "source": [
      "# Martes - introducci\u00f3n a todo\n",
      "\n",
      "* Preguntas: \u00bfQu\u00e9 es nuevo y qu\u00e9 no lo es? \u00bfQu\u00e9 les interesa?\n",
      "* Las herramientas: Python, IPython y el notebook, las librer\u00edas: numpy/scipy, matplotlib, nltk, psycopy.\n",
      "* Explorar el notebook: c\u00e9lulas y ejecuci\u00f3n. Entrar texto, formatear con t\u00edtulos o f\u00f3rmulas, entrar c\u00f3digo. Explorar los men\u00faes.\n",
      "* Anaconda: actualizar, instalar python 3.4 para el mi\u00e9rcoles.\n",
      "* Introducci\u00f3n a la programaci\u00f3n: pasamos a los materiales de Eric Matthes."
     ]
    }
   ],
   "metadata": {}
  }
 ]
}