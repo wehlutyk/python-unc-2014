{
 "metadata": {
  "name": "",
  "signature": "sha256:ca1ce1b4202a02a1731825c99819f428138eefacf23ff0918bcfe512703a3277"
 },
 "nbformat": 3,
 "nbformat_minor": 0,
 "worksheets": [
  {
   "cells": [
    {
     "cell_type": "markdown",
     "metadata": {},
     "source": [
      "# Martes &mdash; Introducci\u00f3n a todo\n",
      "\n",
      "* Una primera parte de la clase fue verificar que Anaconda estaba bien instalado (ver [antes de empezar](http://nbviewer.ipython.org/github/wehlutyk/python-unc-2014/blob/master/0%20-%20Plano.ipynb#antes-de-empezar)) y explicar lo que es [Python](https://www.python.org/), el [notebook IPython](http://ipython.org/notebook.html), y las bibliotecas [numpy](http://www.numpy.org/), [scipy](http://scipy.org/), [matplotlib](http://matplotlib.org/), [nltk](http://nltk.org/), y [psychopy](http://www.psychopy.org/).\n",
      "* Despu\u00e9s pasamos un tiempito explorando c\u00f3mo funciona el notebook IPython (ver una [demostraci\u00f3n ac\u00e1](https://www.youtube.com/watch?v=H6dLGQw9yFQ))\n",
      "* Y pasamos el resto de la clase siguiendo el curso [Variables, Strings, and Numbers](http://introtopython.org/var_string_num.html) de Eric Matthes.\n",
      "\n",
      "Para los que no pudieron atender, repasar los links que est\u00e1n arriba les da un bu\u00e9n resumen de lo que hicimos. Sobre todo el curso \"Variables, Strings, and Numbers\" es muy valioso.\n",
      "\n",
      "### Tareas para el Mi\u00e9rcoles\n",
      "\n",
      "* Terminar el curso \"Variables, Strings, and Numbers\"\n",
      "* En la medida de lo posible, ir viendo el curso [Lists and Tuples](http://introtopython.org/lists_tuples.html)"
     ]
    }
   ],
   "metadata": {}
  }
 ]
}