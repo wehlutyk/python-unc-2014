{
 "metadata": {
  "name": "",
  "signature": "sha256:39c8df5e2ac09951ab3e45f89361773cff132c9976939856e0d913ce42d12484"
 },
 "nbformat": 3,
 "nbformat_minor": 0,
 "worksheets": [
  {
   "cells": [
    {
     "cell_type": "markdown",
     "metadata": {},
     "source": [
      "# Martes &mdash; Introducci\u00f3n a todo\n",
      "\n",
      "* Una primera parte de la clase fue verificar que Anaconda estaba bien instalado (ver [antes de empezar](http://nbviewer.ipython.org/github/wehlutyk/python-unc-2014/blob/master/0%20-%20Plano.ipynb#antes-de-empezar)) y explicar lo que es [Python](https://www.python.org/), el [notebook IPython](http://ipython.org/notebook.html), y las bibliotecas [numpy](http://www.numpy.org/), [scipy](http://scipy.org/), [matplotlib](http://matplotlib.org/), [nltk](http://nltk.org/), y [psychopy](http://www.psychopy.org/)\n",
      "* Despu\u00e9s pasamos un tiempito explorando c\u00f3mo funciona el notebook IPython (ver una [demostraci\u00f3n ac\u00e1](https://www.youtube.com/watch?v=H6dLGQw9yFQ))\n",
      "* Pasamos el resto de la clase siguiendo el curso [Variables, Strings, and Numbers](http://introtopython.org/var_string_num.html) de Eric Matthes\n",
      "* Terminamos con un ejemplo concreto de uso de python para hacer un gr\u00e1fico, como mostrado ac\u00e1 m\u00e1s abajo\n",
      "\n",
      "Para los que no pudieron atender, repasar los links que est\u00e1n arriba les da un bu\u00e9n resumen de lo que hicimos. Sobre todo el curso \"Variables, Strings, and Numbers\" es muy valioso.\n",
      "\n",
      "### Tareas para el Mi\u00e9rcoles\n",
      "\n",
      "* Terminar el curso \"Variables, Strings, and Numbers\"\n",
      "* En la medida de lo posible, ir viendo el curso [Lists and Tuples](http://introtopython.org/lists_tuples.html)"
     ]
    },
    {
     "cell_type": "markdown",
     "metadata": {},
     "source": [
      "## Ejemplo de gr\u00e1fico simple\n",
      "\n",
      "Primero, importar las bibliotecas que necesitamos. Matplotlib para los gr\u00e1ficos, numpy para las grandes listas de n\u00fameros."
     ]
    },
    {
     "cell_type": "code",
     "collapsed": false,
     "input": [
      "import matplotlib.pyplot as plt\n",
      "import numpy as np\n",
      "%matplotlib inline"
     ],
     "language": "python",
     "metadata": {},
     "outputs": [],
     "prompt_number": 1
    },
    {
     "cell_type": "markdown",
     "metadata": {},
     "source": [
      "Necesitamos una serie de puntos equi-repartidos entre -2 y 3, que van a ser nuestros valores de $x$. Ac\u00e1 tomamos 100 puntos."
     ]
    },
    {
     "cell_type": "code",
     "collapsed": false,
     "input": [
      "x = np.linspace(-2, 3, 100)\n",
      "print(x)"
     ],
     "language": "python",
     "metadata": {},
     "outputs": [
      {
       "output_type": "stream",
       "stream": "stdout",
       "text": [
        "[-2.         -1.94949495 -1.8989899  -1.84848485 -1.7979798  -1.74747475\n",
        " -1.6969697  -1.64646465 -1.5959596  -1.54545455 -1.49494949 -1.44444444\n",
        " -1.39393939 -1.34343434 -1.29292929 -1.24242424 -1.19191919 -1.14141414\n",
        " -1.09090909 -1.04040404 -0.98989899 -0.93939394 -0.88888889 -0.83838384\n",
        " -0.78787879 -0.73737374 -0.68686869 -0.63636364 -0.58585859 -0.53535354\n",
        " -0.48484848 -0.43434343 -0.38383838 -0.33333333 -0.28282828 -0.23232323\n",
        " -0.18181818 -0.13131313 -0.08080808 -0.03030303  0.02020202  0.07070707\n",
        "  0.12121212  0.17171717  0.22222222  0.27272727  0.32323232  0.37373737\n",
        "  0.42424242  0.47474747  0.52525253  0.57575758  0.62626263  0.67676768\n",
        "  0.72727273  0.77777778  0.82828283  0.87878788  0.92929293  0.97979798\n",
        "  1.03030303  1.08080808  1.13131313  1.18181818  1.23232323  1.28282828\n",
        "  1.33333333  1.38383838  1.43434343  1.48484848  1.53535354  1.58585859\n",
        "  1.63636364  1.68686869  1.73737374  1.78787879  1.83838384  1.88888889\n",
        "  1.93939394  1.98989899  2.04040404  2.09090909  2.14141414  2.19191919\n",
        "  2.24242424  2.29292929  2.34343434  2.39393939  2.44444444  2.49494949\n",
        "  2.54545455  2.5959596   2.64646465  2.6969697   2.74747475  2.7979798\n",
        "  2.84848485  2.8989899   2.94949495  3.        ]\n"
       ]
      }
     ],
     "prompt_number": 2
    },
    {
     "cell_type": "markdown",
     "metadata": {},
     "source": [
      "Despu\u00e9s calculamos el valor de la function $f(x) = x^2$ para cada valor de $x$. Es esto que vamos a trazar en gr\u00e1fico al paso siguiente."
     ]
    },
    {
     "cell_type": "code",
     "collapsed": false,
     "input": [
      "y = x ** 2\n",
      "print y"
     ],
     "language": "python",
     "metadata": {},
     "outputs": [
      {
       "output_type": "stream",
       "stream": "stdout",
       "text": [
        "[  4.00000000e+00   3.80053056e+00   3.60616264e+00   3.41689624e+00\n",
        "   3.23273135e+00   3.05366799e+00   2.87970615e+00   2.71084583e+00\n",
        "   2.54708703e+00   2.38842975e+00   2.23487399e+00   2.08641975e+00\n",
        "   1.94306703e+00   1.80481584e+00   1.67166616e+00   1.54361800e+00\n",
        "   1.42067136e+00   1.30282624e+00   1.19008264e+00   1.08244057e+00\n",
        "   9.79900010e-01   8.82460973e-01   7.90123457e-01   7.02887460e-01\n",
        "   6.20752984e-01   5.43720029e-01   4.71788593e-01   4.04958678e-01\n",
        "   3.43230283e-01   2.86603408e-01   2.35078053e-01   1.88654219e-01\n",
        "   1.47331905e-01   1.11111111e-01   7.99918376e-02   5.39740843e-02\n",
        "   3.30578512e-02   1.72431385e-02   6.52994592e-03   9.18273646e-04\n",
        "   4.08121620e-04   4.99948985e-03   1.46923783e-02   2.94867871e-02\n",
        "   4.93827160e-02   7.43801653e-02   1.04479135e-01   1.39679625e-01\n",
        "   1.79981635e-01   2.25385165e-01   2.75890215e-01   3.31496786e-01\n",
        "   3.92204877e-01   4.58014488e-01   5.28925620e-01   6.04938272e-01\n",
        "   6.86052444e-01   7.72268136e-01   8.63585348e-01   9.60004081e-01\n",
        "   1.06152433e+00   1.16814611e+00   1.27986940e+00   1.39669421e+00\n",
        "   1.51862055e+00   1.64564840e+00   1.77777778e+00   1.91500867e+00\n",
        "   2.05734109e+00   2.20477502e+00   2.35731048e+00   2.51494745e+00\n",
        "   2.67768595e+00   2.84552597e+00   3.01846750e+00   3.19651056e+00\n",
        "   3.37965514e+00   3.56790123e+00   3.76124885e+00   3.95969799e+00\n",
        "   4.16324865e+00   4.37190083e+00   4.58565453e+00   4.80450974e+00\n",
        "   5.02846648e+00   5.25752474e+00   5.49168452e+00   5.73094582e+00\n",
        "   5.97530864e+00   6.22477298e+00   6.47933884e+00   6.73900622e+00\n",
        "   7.00377512e+00   7.27364555e+00   7.54861749e+00   7.82869095e+00\n",
        "   8.11386593e+00   8.40414243e+00   8.69952046e+00   9.00000000e+00]\n"
       ]
      }
     ],
     "prompt_number": 3
    },
    {
     "cell_type": "markdown",
     "metadata": {},
     "source": [
      "Por f\u00edn, trazamos el gr\u00e1fico de $f(x) = x^2$."
     ]
    },
    {
     "cell_type": "code",
     "collapsed": false,
     "input": [
      "plt.plot(x, y);"
     ],
     "language": "python",
     "metadata": {},
     "outputs": [
      {
       "metadata": {},
       "output_type": "display_data",
       "png": "[encoded data removed]",
       "text": [
        "<matplotlib.figure.Figure at 0x7f4340c60f90>"
       ]
      }
     ],
     "prompt_number": 4
    }
   ],
   "metadata": {}
  }
 ]
}